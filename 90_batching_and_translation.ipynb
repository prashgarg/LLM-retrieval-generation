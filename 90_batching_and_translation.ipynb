{
 "cells": [
  {
   "cell_type": "markdown",
   "id": "cc5416d6",
   "metadata": {},
   "source": [
    "# 90 · Batch Translation Demo — Health-Claim Mini-Workflow\n",
    "_Last updated 2025-05-04_\n",
    "\n",
    "Goal: show **end-to-end** use of the OpenAI **Batch** API on a pocket-sized\n",
    "dataset (3 claims × 3 target languages).\n",
    "\n",
    "We will:\n",
    "\n",
    "1. create a strict JSON schema (`response_format`) once;\n",
    "2. write one JSONL line per `(claim, language)` call;\n",
    "3. (optionally) split large files into ≤ 50 MB chunks;\n",
    "4. submit a **pilot batch** with just **one** line so everyone\n",
    "   sees the UI & cost;\n",
    "5. provide commented code for the full upload, retrieval,\n",
    "   and parsing steps.\n",
    "\n"
   ]
  },
  {
   "cell_type": "markdown",
   "id": "dd33d6da",
   "metadata": {},
   "source": [
    "## API key\n",
    "\n",
    "* Reads `OPENAI_API_KEY` from the environment, or  \n",
    "* Falls back to `key/openai_key.txt` (one-line file).  \n",
    "* Raises an error if neither is present.\n"
   ]
  },
  {
   "cell_type": "code",
   "execution_count": null,
   "id": "82d5d576",
   "metadata": {},
   "outputs": [],
   "source": [
    "# %pip -q install --upgrade openai python-dotenv pandas tqdm\n",
    "import os, pathlib, json, random, time, textwrap, pandas as pd\n",
    "from openai import OpenAI\n",
    "\n",
    "# Key fallback: key/openai_key.txt\n",
    "key_file = pathlib.Path(\"key/openai_key.txt\")\n",
    "if os.getenv(\"OPENAI_API_KEY\") is None and key_file.exists():\n",
    "    os.environ[\"OPENAI_API_KEY\"] = key_file.read_text().strip()\n",
    "\n",
    "if not os.getenv(\"OPENAI_API_KEY\"):\n",
    "    raise ValueError(\"Put your API key in .env or key/openai_key.txt\")\n",
    "\n",
    "client = OpenAI()\n"
   ]
  },
  {
   "cell_type": "markdown",
   "id": "cbce61d0",
   "metadata": {},
   "source": [
    "# 1 · Mini demo dataset (3 English claims)\n",
    "In production df_claims would come from a CSV; here we hard-code.\n"
   ]
  },
  {
   "cell_type": "code",
   "execution_count": 2,
   "id": "e49db4e7",
   "metadata": {},
   "outputs": [
    {
     "data": {
      "text/html": [
       "<div>\n",
       "<style scoped>\n",
       "    .dataframe tbody tr th:only-of-type {\n",
       "        vertical-align: middle;\n",
       "    }\n",
       "\n",
       "    .dataframe tbody tr th {\n",
       "        vertical-align: top;\n",
       "    }\n",
       "\n",
       "    .dataframe thead th {\n",
       "        text-align: right;\n",
       "    }\n",
       "</style>\n",
       "<table border=\"1\" class=\"dataframe\">\n",
       "  <thead>\n",
       "    <tr style=\"text-align: right;\">\n",
       "      <th></th>\n",
       "      <th>claim_id</th>\n",
       "      <th>Claim</th>\n",
       "      <th>Nutrient</th>\n",
       "      <th>Relationship</th>\n",
       "    </tr>\n",
       "  </thead>\n",
       "  <tbody>\n",
       "    <tr>\n",
       "      <th>0</th>\n",
       "      <td>1</td>\n",
       "      <td>Calcium contributes to normal bone health.</td>\n",
       "      <td>Calcium</td>\n",
       "      <td>Bone health</td>\n",
       "    </tr>\n",
       "    <tr>\n",
       "      <th>1</th>\n",
       "      <td>2</td>\n",
       "      <td>DHA intake contributes to the normal function ...</td>\n",
       "      <td>Docosahexaenoic acid (DHA)</td>\n",
       "      <td>Brain function</td>\n",
       "    </tr>\n",
       "    <tr>\n",
       "      <th>2</th>\n",
       "      <td>3</td>\n",
       "      <td>Plant sterols have been shown to lower blood c...</td>\n",
       "      <td>Plant sterols</td>\n",
       "      <td>Blood cholesterol</td>\n",
       "    </tr>\n",
       "  </tbody>\n",
       "</table>\n",
       "</div>"
      ],
      "text/plain": [
       "   claim_id                                              Claim  \\\n",
       "0         1         Calcium contributes to normal bone health.   \n",
       "1         2  DHA intake contributes to the normal function ...   \n",
       "2         3  Plant sterols have been shown to lower blood c...   \n",
       "\n",
       "                     Nutrient       Relationship  \n",
       "0                     Calcium        Bone health  \n",
       "1  Docosahexaenoic acid (DHA)     Brain function  \n",
       "2               Plant sterols  Blood cholesterol  "
      ]
     },
     "execution_count": 2,
     "metadata": {},
     "output_type": "execute_result"
    }
   ],
   "source": [
    "df_claims = pd.DataFrame({\n",
    "    \"claim_id\":   [1, 2, 3],\n",
    "    \"Claim\": [\n",
    "        \"Calcium contributes to normal bone health.\",\n",
    "        \"DHA intake contributes to the normal function of the brain.\",\n",
    "        \"Plant sterols have been shown to lower blood cholesterol.\"\n",
    "    ],\n",
    "    \"Nutrient\": [\n",
    "        \"Calcium\", \"Docosahexaenoic acid (DHA)\", \"Plant sterols\"\n",
    "    ],\n",
    "    \"Relationship\": [\n",
    "        \"Bone health\", \"Brain function\", \"Blood cholesterol\"\n",
    "    ]\n",
    "})\n",
    "df_claims\n"
   ]
  },
  {
   "cell_type": "markdown",
   "id": "6b5cd9a7",
   "metadata": {},
   "source": [
    "# 2 · Schema & system prompt\n",
    " One strict JSON schema reused for every translation call.\n"
   ]
  },
  {
   "cell_type": "code",
   "execution_count": 3,
   "id": "b6c0a8e0",
   "metadata": {},
   "outputs": [],
   "source": [
    "response_format = {\n",
    "    \"type\": \"json_schema\",\n",
    "    \"json_schema\": {\n",
    "        \"name\": \"claim_translation_v1\",\n",
    "        \"strict\": True,\n",
    "        \"schema\": {\n",
    "            \"type\": \"object\",\n",
    "            \"properties\": {\n",
    "                \"translation_claim\": {\"type\": \"string\"},\n",
    "                \"translation_nutrient_substance\": {\"type\": \"string\"},\n",
    "                \"translation_health_relationship\": {\"type\": \"string\"}\n",
    "            },\n",
    "            \"required\": [\n",
    "                \"translation_claim\",\n",
    "                \"translation_nutrient_substance\",\n",
    "                \"translation_health_relationship\"\n",
    "            ],\n",
    "            \"additionalProperties\": False\n",
    "        }\n",
    "    }\n",
    "}\n",
    "\n",
    "SYSTEM_PROMPT = textwrap.dedent(\"\"\"\n",
    "    You are a certified medical-translation specialist.\n",
    "    Translate the ENGLISH text below into the target language.\n",
    "    Preserve technical terms if no local equivalent exists.\n",
    "    Return JSON strictly matching the schema keys provided.\n",
    "\"\"\").strip()\n"
   ]
  },
  {
   "cell_type": "markdown",
   "id": "07c49d38",
   "metadata": {},
   "source": [
    "# 3 · Helper -> one JSONL line\n"
   ]
  },
  {
   "cell_type": "code",
   "execution_count": 4,
   "id": "6f64be9a",
   "metadata": {},
   "outputs": [],
   "source": [
    "def make_jsonl_line(row, target_lang):\n",
    "    \"\"\"\n",
    "    Convert one (claim row, language) into a batch-ready JSON dict.\n",
    "    \"\"\"\n",
    "    custom_id = f\"claim{row.claim_id}_{target_lang}\"\n",
    "    user_prompt = (\n",
    "        f\"Target language: {target_lang}\\n\"\n",
    "        f\"Claim: {row.Claim}\\n\"\n",
    "        f\"Nutrient substance: {row.Nutrient}\\n\"\n",
    "        f\"Health relationship: {row.Relationship}\"\n",
    "    )\n",
    "\n",
    "    return {\n",
    "        \"custom_id\": custom_id,\n",
    "        \"method\": \"POST\",\n",
    "        \"url\": \"/v1/chat/completions\",\n",
    "        \"body\": {\n",
    "            \"model\": \"gpt-4o-mini\",       # cheap + strong\n",
    "            \"messages\": [\n",
    "                {\"role\": \"system\", \"content\": SYSTEM_PROMPT},\n",
    "                {\"role\": \"user\",   \"content\": user_prompt}\n",
    "            ],\n",
    "            \"temperature\": 0,\n",
    "            \"max_tokens\": 512,\n",
    "            \"response_format\": response_format\n",
    "        }\n",
    "    }\n"
   ]
  },
  {
   "cell_type": "markdown",
   "id": "a0551d89",
   "metadata": {},
   "source": [
    "# 4 · Build JSONL (3 claims × 3 languages = 9 lines)\n"
   ]
  },
  {
   "cell_type": "code",
   "execution_count": 6,
   "id": "a586f9ce",
   "metadata": {},
   "outputs": [
    {
     "name": "stdout",
     "output_type": "stream",
     "text": [
      "Wrote int_data\\batch_input_claims_demo.jsonl with 9 lines.\n"
     ]
    }
   ],
   "source": [
    "TARGET_LANGS = [\"Spanish\", \"German\", \"Japanese\"]\n",
    "jsonl_path = pathlib.Path(\"int_data/batch_input_claims_demo.jsonl\")\n",
    "\n",
    "with jsonl_path.open(\"w\", encoding=\"utf-8\") as f:\n",
    "    for _, row in df_claims.iterrows():\n",
    "        for lang in TARGET_LANGS:\n",
    "            line = make_jsonl_line(row, lang)\n",
    "            f.write(json.dumps(line) + \"\\n\")\n",
    "\n",
    "print(f\"Wrote {jsonl_path} with {sum(1 for _ in open(jsonl_path))} lines.\")\n"
   ]
  },
  {
   "cell_type": "markdown",
   "id": "35843d65",
   "metadata": {},
   "source": [
    "# 5 · (Optional) split into ≤50 MB parts\n",
    "For the demo our file is < 2 KB so we keep NUM_PARTS=1.\n"
   ]
  },
  {
   "cell_type": "code",
   "execution_count": 7,
   "id": "765353e3",
   "metadata": {},
   "outputs": [],
   "source": [
    "NUM_PARTS = 1\n",
    "\n",
    "part_dir = pathlib.Path(\"int_data/batch_parts_demo\"); part_dir.mkdir(exist_ok=True)\n",
    "if NUM_PARTS == 1:\n",
    "    part_paths = [jsonl_path]\n",
    "else:\n",
    "    lines = jsonl_path.read_text(encoding=\"utf-8\").splitlines()\n",
    "    chunk = len(lines) // NUM_PARTS + 1\n",
    "    part_paths = []\n",
    "    for i in range(NUM_PARTS):\n",
    "        p = part_dir / f\"claims_part{i+1}.jsonl\"\n",
    "        p.write_text(\"\\n\".join(lines[i*chunk:(i+1)*chunk]), encoding=\"utf-8\")\n",
    "        part_paths.append(p)\n"
   ]
  },
  {
   "cell_type": "markdown",
   "id": "cc3bbbe1",
   "metadata": {},
   "source": [
    "# 6 · Create a **pilot** batch (1 random line) – optional\n"
   ]
  },
  {
   "cell_type": "code",
   "execution_count": 8,
   "id": "c4b8aaa9",
   "metadata": {},
   "outputs": [
    {
     "name": "stdout",
     "output_type": "stream",
     "text": [
      "Pilot batch ID: batch_681744dbc2d08190a7bbbbeb03e30f71\n"
     ]
    }
   ],
   "source": [
    "pilot_line = random.choice(jsonl_path.read_text().splitlines())\n",
    "pilot_path  = pathlib.Path(\"int_Data/pilot_line.jsonl\")\n",
    "pilot_path.write_text(pilot_line, encoding=\"utf-8\")\n",
    "\n",
    "pilot_file = client.files.create(file=pilot_path.open(\"rb\"), purpose=\"batch\")\n",
    "pilot_batch = client.batches.create(\n",
    "    input_file_id   = pilot_file.id,\n",
    "    endpoint        = \"/v1/chat/completions\",\n",
    "    completion_window = \"24h\",\n",
    "    metadata        = {\"description\": \"Pilot translation batch (1 line)\"}\n",
    ")\n",
    "print(\"Pilot batch ID:\", pilot_batch.id)\n"
   ]
  },
  {
   "cell_type": "markdown",
   "id": "0fd2cefb",
   "metadata": {},
   "source": [
    "# 7 · Template – upload *all* parts  (commented to avoid cost)\n"
   ]
  },
  {
   "cell_type": "code",
   "execution_count": 9,
   "id": "379bc2f0",
   "metadata": {},
   "outputs": [],
   "source": [
    "\n",
    "batch_ids = []\n",
    "for p in part_paths:\n",
    "    file_obj = client.files.create(file=p.open(\"rb\"), purpose=\"batch\")\n",
    "    batch   = client.batches.create(\n",
    "        input_file_id=file_obj.id,\n",
    "        endpoint=\"/v1/chat/completions\",\n",
    "        completion_window=\"24h\",\n",
    "        metadata={\"description\": f\"Full translation – {p.name}\"}\n",
    "    )\n",
    "    batch_ids.append(batch.id)\n",
    "    time.sleep(1)   # avoid 429\n",
    "\n"
   ]
  },
  {
   "cell_type": "markdown",
   "id": "f8a2cf28",
   "metadata": {},
   "source": [
    "# 8 · Download & normalise output\n",
    "### Only runs if you have completed batches.\n",
    "### Go to https://platform.openai.com/usage to check if your batch is complete.\n"
   ]
  },
  {
   "cell_type": "code",
   "execution_count": null,
   "id": "364b2ad5",
   "metadata": {},
   "outputs": [
    {
     "data": {
      "text/html": [
       "<div>\n",
       "<style scoped>\n",
       "    .dataframe tbody tr th:only-of-type {\n",
       "        vertical-align: middle;\n",
       "    }\n",
       "\n",
       "    .dataframe tbody tr th {\n",
       "        vertical-align: top;\n",
       "    }\n",
       "\n",
       "    .dataframe thead th {\n",
       "        text-align: right;\n",
       "    }\n",
       "</style>\n",
       "<table border=\"1\" class=\"dataframe\">\n",
       "  <thead>\n",
       "    <tr style=\"text-align: right;\">\n",
       "      <th></th>\n",
       "      <th>claim_id</th>\n",
       "      <th>language</th>\n",
       "      <th>translation_claim</th>\n",
       "      <th>translation_nutrient_substance</th>\n",
       "      <th>translation_health_relationship</th>\n",
       "    </tr>\n",
       "  </thead>\n",
       "  <tbody>\n",
       "    <tr>\n",
       "      <th>0</th>\n",
       "      <td>2</td>\n",
       "      <td>Spanish</td>\n",
       "      <td>La ingesta de DHA contribuye al funcionamiento...</td>\n",
       "      <td>Ácido docosahexaenoico (DHA)</td>\n",
       "      <td>Función cerebral</td>\n",
       "    </tr>\n",
       "  </tbody>\n",
       "</table>\n",
       "</div>"
      ],
      "text/plain": [
       "   claim_id language                                  translation_claim  \\\n",
       "0         2  Spanish  La ingesta de DHA contribuye al funcionamiento...   \n",
       "\n",
       "  translation_nutrient_substance translation_health_relationship  \n",
       "0   Ácido docosahexaenoico (DHA)                Función cerebral  "
      ]
     },
     "metadata": {},
     "output_type": "display_data"
    }
   ],
   "source": [
    "def download_output(batch_id, out_dir=\"int_data/batch_out_demo\"):\n",
    "    out_dir = pathlib.Path(out_dir); out_dir.mkdir(exist_ok=True)\n",
    "    status  = client.batches.retrieve(batch_id)\n",
    "    if status.status != \"completed\":\n",
    "        print(batch_id, \"not ready:\", status.status); return None\n",
    "    out_path = out_dir / f\"{batch_id}.jsonl\"\n",
    "    out_path.write_text(client.files.content(status.output_file_id).text,\n",
    "                        encoding=\"utf-8\")\n",
    "    return out_path\n",
    "\n",
    "# --- parse helper -------------------------------------------------\n",
    "def parse_batch_file(path):\n",
    "    rows = []\n",
    "    for line in path.read_text(encoding=\"utf-8\").splitlines():\n",
    "        blob = json.loads(line)\n",
    "        cid  = blob[\"custom_id\"]\n",
    "        payload = json.loads(blob[\"response\"][\"body\"][\"choices\"][0][\"message\"][\"content\"])\n",
    "        claim_id, lang = cid.replace(\"claim\",\"\").split(\"_\")\n",
    "        rows.append({\"claim_id\": int(claim_id),\n",
    "                     \"language\": lang,\n",
    "                     **payload})\n",
    "    return pd.DataFrame(rows)\n",
    "\n",
    "# parse pilot:\n",
    "pilot_out = download_output(pilot_batch.id)\n",
    "if pilot_out: display(parse_batch_file(pilot_out))\n"
   ]
  },
  {
   "cell_type": "markdown",
   "id": "2fbb0dce",
   "metadata": {},
   "source": [
    "# 🔄 10 · Retrieve *all* batch outputs\n",
    "- Works whether you created batches in the current session or re-open the notebook later.\n",
    "- If you saved the IDs to disk, load them; otherwise just pass the in-memory list `batch_ids`.\n"
   ]
  },
  {
   "cell_type": "code",
   "execution_count": 14,
   "id": "5b86b2e3",
   "metadata": {},
   "outputs": [
    {
     "name": "stdout",
     "output_type": "stream",
     "text": [
      "Polling 1 batches …  (ctrl-C to stop)\n",
      " done: 1  failed: 0  pending: 0\n",
      "All batches resolved.\n"
     ]
    }
   ],
   "source": [
    "# -----------------------------------------------------------------\n",
    "# (A)  Fetch the batch-ID list\n",
    "# -----------------------------------------------------------------\n",
    "BATCH_ID_FILE = pathlib.Path(\"batch_ids_full.json\")   # or .pkl\n",
    "if BATCH_ID_FILE.exists():\n",
    "    batch_ids = json.loads(BATCH_ID_FILE.read_text())\n",
    "    print(\"Loaded\", len(batch_ids), \"batch IDs from file.\")\n",
    "else:\n",
    "    # fall back to whatever variable is in memory\n",
    "    try:\n",
    "        batch_ids\n",
    "    except NameError:\n",
    "        raise ValueError(\"No batch_ids variable and no batch-id file found.\")\n",
    "\n",
    "# -----------------------------------------------------------------\n",
    "# (B)  Poll until every batch is done (or failed)\n",
    "# -----------------------------------------------------------------\n",
    "PENDING  = set(batch_ids)\n",
    "COMPLETED, FAILED = set(), set()\n",
    "\n",
    "print(\"Polling\", len(PENDING), \"batches …  (ctrl-C to stop)\")\n",
    "while PENDING:\n",
    "    for bid in list(PENDING):\n",
    "        st = client.batches.retrieve(bid).status\n",
    "        if st == \"completed\":\n",
    "            COMPLETED.add(bid); PENDING.remove(bid)\n",
    "        elif st == \"failed\":\n",
    "            FAILED.add(bid); PENDING.remove(bid)\n",
    "    print(f\" done: {len(COMPLETED)}  failed: {len(FAILED)}  pending: {len(PENDING)}\",\n",
    "          end=\"\\r\")\n",
    "    if PENDING:\n",
    "        time.sleep(60)       # check once per minute\n",
    "\n",
    "print(\"\\nAll batches resolved.\")\n"
   ]
  },
  {
   "cell_type": "code",
   "execution_count": 15,
   "id": "1d7e6812",
   "metadata": {},
   "outputs": [
    {
     "name": "stdout",
     "output_type": "stream",
     "text": [
      "Rows collected: 9\n"
     ]
    },
    {
     "data": {
      "text/html": [
       "<div>\n",
       "<style scoped>\n",
       "    .dataframe tbody tr th:only-of-type {\n",
       "        vertical-align: middle;\n",
       "    }\n",
       "\n",
       "    .dataframe tbody tr th {\n",
       "        vertical-align: top;\n",
       "    }\n",
       "\n",
       "    .dataframe thead th {\n",
       "        text-align: right;\n",
       "    }\n",
       "</style>\n",
       "<table border=\"1\" class=\"dataframe\">\n",
       "  <thead>\n",
       "    <tr style=\"text-align: right;\">\n",
       "      <th></th>\n",
       "      <th>claim_id</th>\n",
       "      <th>language</th>\n",
       "      <th>translation_claim</th>\n",
       "      <th>translation_nutrient_substance</th>\n",
       "      <th>translation_health_relationship</th>\n",
       "    </tr>\n",
       "  </thead>\n",
       "  <tbody>\n",
       "    <tr>\n",
       "      <th>0</th>\n",
       "      <td>1</td>\n",
       "      <td>Spanish</td>\n",
       "      <td>El calcio contribuye a la salud ósea normal.</td>\n",
       "      <td>Calcio</td>\n",
       "      <td>Salud ósea</td>\n",
       "    </tr>\n",
       "    <tr>\n",
       "      <th>1</th>\n",
       "      <td>1</td>\n",
       "      <td>German</td>\n",
       "      <td>Kalzium trägt zur normalen Knochengesundheit bei.</td>\n",
       "      <td>Kalzium</td>\n",
       "      <td>Knochengesundheit</td>\n",
       "    </tr>\n",
       "    <tr>\n",
       "      <th>2</th>\n",
       "      <td>1</td>\n",
       "      <td>Japanese</td>\n",
       "      <td>カルシウムは正常な骨の健康に寄与します。</td>\n",
       "      <td>カルシウム</td>\n",
       "      <td>骨の健康</td>\n",
       "    </tr>\n",
       "    <tr>\n",
       "      <th>3</th>\n",
       "      <td>2</td>\n",
       "      <td>Spanish</td>\n",
       "      <td>La ingesta de DHA contribuye al funcionamiento...</td>\n",
       "      <td>Ácido docosahexaenoico (DHA)</td>\n",
       "      <td>Función cerebral</td>\n",
       "    </tr>\n",
       "    <tr>\n",
       "      <th>4</th>\n",
       "      <td>2</td>\n",
       "      <td>German</td>\n",
       "      <td>Die Aufnahme von DHA trägt zur normalen Funkti...</td>\n",
       "      <td>Docosahexaensäure (DHA)</td>\n",
       "      <td>Gehirnfunktion</td>\n",
       "    </tr>\n",
       "  </tbody>\n",
       "</table>\n",
       "</div>"
      ],
      "text/plain": [
       "   claim_id  language                                  translation_claim  \\\n",
       "0         1   Spanish       El calcio contribuye a la salud ósea normal.   \n",
       "1         1    German  Kalzium trägt zur normalen Knochengesundheit bei.   \n",
       "2         1  Japanese                               カルシウムは正常な骨の健康に寄与します。   \n",
       "3         2   Spanish  La ingesta de DHA contribuye al funcionamiento...   \n",
       "4         2    German  Die Aufnahme von DHA trägt zur normalen Funkti...   \n",
       "\n",
       "  translation_nutrient_substance translation_health_relationship  \n",
       "0                         Calcio                      Salud ósea  \n",
       "1                        Kalzium               Knochengesundheit  \n",
       "2                          カルシウム                            骨の健康  \n",
       "3   Ácido docosahexaenoico (DHA)                Función cerebral  \n",
       "4        Docosahexaensäure (DHA)                  Gehirnfunktion  "
      ]
     },
     "metadata": {},
     "output_type": "display_data"
    }
   ],
   "source": [
    "\n",
    "# -----------------------------------------------------------------\n",
    "# (C)  Download + parse every completed batch\n",
    "# -----------------------------------------------------------------\n",
    "all_tables = []\n",
    "for bid in COMPLETED:\n",
    "    out_path = download_output(bid, out_dir=\"int_data/batch_out_demo\")\n",
    "    if out_path:\n",
    "        all_tables.append(parse_batch_file(out_path))\n",
    "\n",
    "if not all_tables:\n",
    "    raise ValueError(\"No completed batch files parsed!\")\n",
    "\n",
    "df_translated = pd.concat(all_tables, ignore_index=True)\n",
    "print(\"Rows collected:\", len(df_translated))\n",
    "display(df_translated.head())\n"
   ]
  },
  {
   "cell_type": "code",
   "execution_count": 16,
   "id": "5fe8338d",
   "metadata": {},
   "outputs": [
    {
     "data": {
      "text/html": [
       "<div>\n",
       "<style scoped>\n",
       "    .dataframe tbody tr th:only-of-type {\n",
       "        vertical-align: middle;\n",
       "    }\n",
       "\n",
       "    .dataframe tbody tr th {\n",
       "        vertical-align: top;\n",
       "    }\n",
       "\n",
       "    .dataframe thead th {\n",
       "        text-align: right;\n",
       "    }\n",
       "</style>\n",
       "<table border=\"1\" class=\"dataframe\">\n",
       "  <thead>\n",
       "    <tr style=\"text-align: right;\">\n",
       "      <th></th>\n",
       "      <th>claim_id</th>\n",
       "      <th>language</th>\n",
       "      <th>translation_claim</th>\n",
       "      <th>translation_nutrient_substance</th>\n",
       "      <th>translation_health_relationship</th>\n",
       "      <th>Claim</th>\n",
       "    </tr>\n",
       "  </thead>\n",
       "  <tbody>\n",
       "    <tr>\n",
       "      <th>1</th>\n",
       "      <td>1</td>\n",
       "      <td>German</td>\n",
       "      <td>Kalzium trägt zur normalen Knochengesundheit bei.</td>\n",
       "      <td>Kalzium</td>\n",
       "      <td>Knochengesundheit</td>\n",
       "      <td>Calcium contributes to normal bone health.</td>\n",
       "    </tr>\n",
       "    <tr>\n",
       "      <th>2</th>\n",
       "      <td>1</td>\n",
       "      <td>Japanese</td>\n",
       "      <td>カルシウムは正常な骨の健康に寄与します。</td>\n",
       "      <td>カルシウム</td>\n",
       "      <td>骨の健康</td>\n",
       "      <td>Calcium contributes to normal bone health.</td>\n",
       "    </tr>\n",
       "    <tr>\n",
       "      <th>0</th>\n",
       "      <td>1</td>\n",
       "      <td>Spanish</td>\n",
       "      <td>El calcio contribuye a la salud ósea normal.</td>\n",
       "      <td>Calcio</td>\n",
       "      <td>Salud ósea</td>\n",
       "      <td>Calcium contributes to normal bone health.</td>\n",
       "    </tr>\n",
       "    <tr>\n",
       "      <th>4</th>\n",
       "      <td>2</td>\n",
       "      <td>German</td>\n",
       "      <td>Die Aufnahme von DHA trägt zur normalen Funkti...</td>\n",
       "      <td>Docosahexaensäure (DHA)</td>\n",
       "      <td>Gehirnfunktion</td>\n",
       "      <td>DHA intake contributes to the normal function ...</td>\n",
       "    </tr>\n",
       "    <tr>\n",
       "      <th>5</th>\n",
       "      <td>2</td>\n",
       "      <td>Japanese</td>\n",
       "      <td>DHAの摂取は脳の正常な機能に寄与します。</td>\n",
       "      <td>ドコサヘキサエン酸 (DHA)</td>\n",
       "      <td>脳機能</td>\n",
       "      <td>DHA intake contributes to the normal function ...</td>\n",
       "    </tr>\n",
       "  </tbody>\n",
       "</table>\n",
       "</div>"
      ],
      "text/plain": [
       "   claim_id  language                                  translation_claim  \\\n",
       "1         1    German  Kalzium trägt zur normalen Knochengesundheit bei.   \n",
       "2         1  Japanese                               カルシウムは正常な骨の健康に寄与します。   \n",
       "0         1   Spanish       El calcio contribuye a la salud ósea normal.   \n",
       "4         2    German  Die Aufnahme von DHA trägt zur normalen Funkti...   \n",
       "5         2  Japanese                              DHAの摂取は脳の正常な機能に寄与します。   \n",
       "\n",
       "  translation_nutrient_substance translation_health_relationship  \\\n",
       "1                        Kalzium               Knochengesundheit   \n",
       "2                          カルシウム                            骨の健康   \n",
       "0                         Calcio                      Salud ósea   \n",
       "4        Docosahexaensäure (DHA)                  Gehirnfunktion   \n",
       "5                ドコサヘキサエン酸 (DHA)                             脳機能   \n",
       "\n",
       "                                               Claim  \n",
       "1         Calcium contributes to normal bone health.  \n",
       "2         Calcium contributes to normal bone health.  \n",
       "0         Calcium contributes to normal bone health.  \n",
       "4  DHA intake contributes to the normal function ...  \n",
       "5  DHA intake contributes to the normal function ...  "
      ]
     },
     "metadata": {},
     "output_type": "display_data"
    }
   ],
   "source": [
    "\n",
    "# -----------------------------------------------------------------\n",
    "# (D)  Join back to English claims (optional)\n",
    "# -----------------------------------------------------------------\n",
    "df_final = (\n",
    "    df_translated\n",
    "    .merge(df_claims[[\"claim_id\", \"Claim\"]], on=\"claim_id\", how=\"left\")\n",
    "    .sort_values([\"claim_id\", \"language\"])\n",
    ")\n",
    "display(df_final.head())"
   ]
  }
 ],
 "metadata": {
  "kernelspec": {
   "display_name": "Python 3",
   "language": "python",
   "name": "python3"
  },
  "language_info": {
   "codemirror_mode": {
    "name": "ipython",
    "version": 3
   },
   "file_extension": ".py",
   "mimetype": "text/x-python",
   "name": "python",
   "nbconvert_exporter": "python",
   "pygments_lexer": "ipython3",
   "version": "3.11.9"
  }
 },
 "nbformat": 4,
 "nbformat_minor": 5
}
