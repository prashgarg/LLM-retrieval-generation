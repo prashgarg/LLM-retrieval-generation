{
 "cells": [
  {
   "cell_type": "markdown",
   "id": "0ff5ef93",
   "metadata": {},
   "source": [
    "# 00 · API Smoke Test  \n",
    "_Last generated: 2025-04-30 11:20 UTC_\n",
    "\n",
    "This notebook does one job only: **check that your OpenAI key is available and the SDK can deliver a simple response**.  \n",
    "We keep the key in a plain-text file so you never hard-code secrets in notebooks.\n",
    "\n",
    "**Workflow**\n",
    "\n",
    "1. **Locate the key file**  \n",
    "   * We expect it at `key/openai_key.txt` (relative to this notebook).  \n",
    "   * The file should contain exactly one line: your key, e.g.  \n",
    "     ```\n",
    "     sk-XXXXXXXXXXXXXXXXXXXXXXXXXXXXXXX\n",
    "     ```\n",
    "   * You can also export `OPENAI_API_KEY` in your shell or store it in a `.env` file.  \n",
    "     The code below checks all three options in this order:\n",
    "     key file ➜ environment variable ➜ `.env`.\n",
    "\n",
    "2. **Populate `os.environ`**  \n",
    "   If the key file exists and the environment variable is unset, we read the file and set  \n",
    "   `os.environ[\"OPENAI_API_KEY\"]`.\n",
    "\n",
    "3. **Fail fast if no key**  \n",
    "   If after step 2 the variable is still absent or empty, we raise a clear error so you know what to fix.\n",
    "\n",
    "4. **Instantiate the OpenAI client**  \n",
    "   We create `client = OpenAI()`; the SDK picks up the key from the environment.\n",
    "\n",
    "5. **Minimal completion call**  \n",
    "   We ask `gpt-4o-mini` for a one-sentence bedtime story.  \n",
    "   If it returns text, we know everything works: internet, authentication, model.\n",
    "\n",
    "Feel free to delete this notebook after verifying connectivity—every other notebook imports the\n",
    "same helper and will work as long as the environment variable is set.\n"
   ]
  },
  {
   "cell_type": "code",
   "execution_count": 4,
   "id": "ad7b9d03",
   "metadata": {},
   "outputs": [
    {
     "name": "stdout",
     "output_type": "stream",
     "text": [
      "✅ Model response: As the moonlight danced on the shimmering lake, a gentle unicorn named Luna spread her iridescent wings and soared through the starry sky, spreading dreams of magic and wonder to all the sleeping children below.\n"
     ]
    }
   ],
   "source": [
    "# Install the SDK if it isn’t present\n",
    "# (quiet mode so the output stays clean for students)\n",
    "# %pip -q install --upgrade openai\n",
    "\n",
    "import os, pathlib\n",
    "from openai import OpenAI\n",
    "\n",
    "# ---------------------------------------------------------------------\n",
    "# 1. Locate key file   (default path: ./key/openai_key.txt)\n",
    "# ---------------------------------------------------------------------\n",
    "key_path = pathlib.Path(\"key/openai_key.txt\")\n",
    "\n",
    "# ---------------------------------------------------------------------\n",
    "# 2. If the env var isn't already set but the file exists,\n",
    "#    read the file and export the key to the current process.\n",
    "# ---------------------------------------------------------------------\n",
    "if os.getenv(\"OPENAI_API_KEY\") is None and key_path.exists():\n",
    "    os.environ[\"OPENAI_API_KEY\"] = key_path.read_text().strip()\n",
    "\n",
    "# ---------------------------------------------------------------------\n",
    "# 3. Fail fast if we still don’t have a key\n",
    "# ---------------------------------------------------------------------\n",
    "if not os.getenv(\"OPENAI_API_KEY\"):\n",
    "    raise ValueError(\n",
    "        \"No API key found.\\n\"\n",
    "        \"➜  Create a file at 'key/openai_key.txt' (single line with your key)\\n\"\n",
    "        \"    OR set the OPENAI_API_KEY environment variable \"\n",
    "        \"before running this notebook.\"\n",
    "    )\n",
    "\n",
    "# ---------------------------------------------------------------------\n",
    "# 4. Instantiate the client (SDK reads the key from the env var)\n",
    "# ---------------------------------------------------------------------\n",
    "client = OpenAI()  # key auto-loaded\n",
    "\n",
    "# ---------------------------------------------------------------------\n",
    "# 5. Minimal request to verify connectivity\n",
    "# ---------------------------------------------------------------------\n",
    "response = client.chat.completions.create(\n",
    "    model=\"gpt-4o-mini\",\n",
    "    messages=[\n",
    "        {\"role\": \"user\",\n",
    "         \"content\": \"Write a one-sentence bedtime story about a unicorn.\"}\n",
    "    ],\n",
    "    temperature=0\n",
    ")\n",
    "\n",
    "# Extract and print the assistant’s reply\n",
    "print(\"✅ Model response:\", response.choices[0].message.content)\n"
   ]
  }
 ],
 "metadata": {
  "kernelspec": {
   "display_name": "Python 3",
   "language": "python",
   "name": "python3"
  },
  "language_info": {
   "codemirror_mode": {
    "name": "ipython",
    "version": 3
   },
   "file_extension": ".py",
   "mimetype": "text/x-python",
   "name": "python",
   "nbconvert_exporter": "python",
   "pygments_lexer": "ipython3",
   "version": "3.11.9"
  }
 },
 "nbformat": 4,
 "nbformat_minor": 5
}
