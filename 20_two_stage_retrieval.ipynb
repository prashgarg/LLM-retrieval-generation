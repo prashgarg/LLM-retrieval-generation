{
 "cells": [
  {
   "cell_type": "markdown",
   "id": "40efb3a5",
   "metadata": {},
   "source": [
    "# 20 · Two-Stage Retrieval — “Long Text → Summary → Edge List”  \n",
    "_Last updated: 2025-05-03_\n",
    "\n",
    "In real projects you often face **long documents** (30–100 pages) that exceed an LLM’s context window.  \n",
    "A common workaround is a **two-stage pipeline**:\n",
    "\n",
    "1. **Stage 1 – Summarize** (or *chunk* + *filter*): reduce the long text to the subset that matters.  \n",
    "2. **Stage 2 – Extract**: feed the summary into a second prompt that outputs structured data.\n",
    "\n",
    "This notebook shows the pattern on a **toy paragraph** so it runs instantly, but\n",
    "the code structure is identical for full PDFs.\n"
   ]
  },
  {
   "cell_type": "markdown",
   "id": "72cb8557",
   "metadata": {},
   "source": [
    "\n",
    "### If you use this code, please cite the paper: \n",
    "\n",
    "- Garg, P. and Fetzer, T., 2025. **Causal claims in economics**. arXiv preprint arXiv:2501.06873.\n"
   ]
  },
  {
   "cell_type": "markdown",
   "id": "70f66d8c",
   "metadata": {},
   "source": [
    "## Key handling\n",
    "\n",
    "Identical to Notebook 00:\n",
    "\n",
    "* Looks for `OPENAI_API_KEY` env var.  \n",
    "* Else reads `key/openai_key.txt` (one line).  \n",
    "* Raises an error if not found.\n"
   ]
  },
  {
   "cell_type": "code",
   "execution_count": 1,
   "id": "99ed1ef4",
   "metadata": {},
   "outputs": [],
   "source": [
    "# %pip -q install --upgrade openai\n",
    "import os, pathlib, json, pandas as pd\n",
    "from openai import OpenAI\n",
    "\n",
    "# Locate key\n",
    "key_path = pathlib.Path(\"key/openai_key.txt\")\n",
    "if os.getenv(\"OPENAI_API_KEY\") is None and key_path.exists():\n",
    "    os.environ[\"OPENAI_API_KEY\"] = key_path.read_text().strip()\n",
    "\n",
    "if not os.getenv(\"OPENAI_API_KEY\"):\n",
    "    raise ValueError(\"Add OPENAI_API_KEY or create key/openai_key.txt\")\n",
    "\n",
    "client = OpenAI()\n"
   ]
  },
  {
   "cell_type": "markdown",
   "id": "0fe555ed",
   "metadata": {},
   "source": [
    "### 1 · Example long-ish text (placeholder)\n",
    "\n",
    "Imagine this paragraph is one **chunk** (≈ 2500 tokens) from the first 30 pages\n",
    "of a research paper.\n"
   ]
  },
  {
   "cell_type": "code",
   "execution_count": 3,
   "id": "2b7091f0",
   "metadata": {},
   "outputs": [],
   "source": [
    "page_text = (\n",
    "    \"This paper studies how access to microcredit affects household business creation in rural India. \"\n",
    "    \"Using a randomized rollout, the authors show that microfinance availability increases the probability \"\n",
    "    \"that a household starts a small enterprise by 7 percentage points. They also find evidence that \"\n",
    "    \"female-headed households benefit disproportionately, while existing businesses do not grow. \"\n",
    "    \"Stress related to loan repayment, however, increases among the poorest borrowers.\"\n",
    ")\n"
   ]
  },
  {
   "cell_type": "markdown",
   "id": "87c7cacc",
   "metadata": {},
   "source": [
    "### 2 · Stage 1 — Summarize causal claims\n",
    "\n",
    "We ask the LLM to produce a *single string* (`causal_claims`) containing every\n",
    "explicit **cause → effect** statement.  \n",
    "Schema: just one required field so we keep the output predictable.\n"
   ]
  },
  {
   "cell_type": "code",
   "execution_count": 4,
   "id": "4be58a8f",
   "metadata": {},
   "outputs": [
    {
     "name": "stdout",
     "output_type": "stream",
     "text": [
      "Stage-1 output ➜ 1. Access to microcredit increases the probability that a household starts a small enterprise by 7 percentage points.\n",
      "2. Female-headed households benefit disproportionately from microfinance availability.\n",
      "3. Existing businesses do not grow as a result of microfinance availability.\n",
      "4. Stress related to loan repayment increases among the poorest borrowers.\n"
     ]
    }
   ],
   "source": [
    "summary_schema = {\n",
    "    \"type\": \"json_schema\",\n",
    "    \"json_schema\": {\n",
    "        \"name\": \"stage1_summary\",\n",
    "        \"strict\": True,\n",
    "        \"schema\": {\n",
    "            \"type\": \"object\",\n",
    "            \"properties\": {\n",
    "                \"causal_claims\": {\"type\": \"string\"}\n",
    "            },\n",
    "            \"required\": [\"causal_claims\"],\n",
    "            \"additionalProperties\": False\n",
    "        }\n",
    "    }\n",
    "}\n",
    "\n",
    "stage1_resp = client.chat.completions.create(\n",
    "    model=\"gpt-4o-mini\",\n",
    "    messages=[\n",
    "        {\"role\": \"system\",\n",
    "         \"content\": \"List every explicit cause–effect statement from the text.\"},\n",
    "        {\"role\": \"user\", \"content\": page_text}\n",
    "    ],\n",
    "    temperature=0.3,  # low: we want faithful extraction\n",
    "    response_format=summary_schema\n",
    ")\n",
    "\n",
    "causal_claims_text = json.loads(stage1_resp.choices[0].message.content)[\"causal_claims\"]\n",
    "print(\"Stage-1 output ➜\", causal_claims_text)\n"
   ]
  },
  {
   "cell_type": "markdown",
   "id": "5d899557",
   "metadata": {},
   "source": [
    "### 3 · Stage 2 — Convert summary to structured edge list\n",
    "\n",
    "Now we feed that condensed string into a second prompt that outputs\n",
    "an **array of edges** with an optional `method` field.\n"
   ]
  },
  {
   "cell_type": "code",
   "execution_count": 6,
   "id": "01b37360",
   "metadata": {},
   "outputs": [
    {
     "data": {
      "text/html": [
       "<div>\n",
       "<style scoped>\n",
       "    .dataframe tbody tr th:only-of-type {\n",
       "        vertical-align: middle;\n",
       "    }\n",
       "\n",
       "    .dataframe tbody tr th {\n",
       "        vertical-align: top;\n",
       "    }\n",
       "\n",
       "    .dataframe thead th {\n",
       "        text-align: right;\n",
       "    }\n",
       "</style>\n",
       "<table border=\"1\" class=\"dataframe\">\n",
       "  <thead>\n",
       "    <tr style=\"text-align: right;\">\n",
       "      <th></th>\n",
       "      <th>claim</th>\n",
       "      <th>cause</th>\n",
       "      <th>effect</th>\n",
       "      <th>method</th>\n",
       "    </tr>\n",
       "  </thead>\n",
       "  <tbody>\n",
       "    <tr>\n",
       "      <th>0</th>\n",
       "      <td>Access to microcredit increases the probabilit...</td>\n",
       "      <td>Access to microcredit</td>\n",
       "      <td>Probability of starting a small enterprise inc...</td>\n",
       "      <td>Statistical analysis</td>\n",
       "    </tr>\n",
       "    <tr>\n",
       "      <th>1</th>\n",
       "      <td>Female-headed households benefit disproportion...</td>\n",
       "      <td>Microfinance availability</td>\n",
       "      <td>Benefits to female-headed households</td>\n",
       "      <td>Comparative analysis</td>\n",
       "    </tr>\n",
       "    <tr>\n",
       "      <th>2</th>\n",
       "      <td>Existing businesses do not grow as a result of...</td>\n",
       "      <td>Microfinance availability</td>\n",
       "      <td>No growth in existing businesses</td>\n",
       "      <td>Observational study</td>\n",
       "    </tr>\n",
       "    <tr>\n",
       "      <th>3</th>\n",
       "      <td>Stress related to loan repayment increases amo...</td>\n",
       "      <td>Loan repayment</td>\n",
       "      <td>Increased stress among the poorest borrowers</td>\n",
       "      <td>Survey data analysis</td>\n",
       "    </tr>\n",
       "  </tbody>\n",
       "</table>\n",
       "</div>"
      ],
      "text/plain": [
       "                                               claim  \\\n",
       "0  Access to microcredit increases the probabilit...   \n",
       "1  Female-headed households benefit disproportion...   \n",
       "2  Existing businesses do not grow as a result of...   \n",
       "3  Stress related to loan repayment increases amo...   \n",
       "\n",
       "                       cause  \\\n",
       "0      Access to microcredit   \n",
       "1  Microfinance availability   \n",
       "2  Microfinance availability   \n",
       "3             Loan repayment   \n",
       "\n",
       "                                              effect                method  \n",
       "0  Probability of starting a small enterprise inc...  Statistical analysis  \n",
       "1               Benefits to female-headed households  Comparative analysis  \n",
       "2                   No growth in existing businesses   Observational study  \n",
       "3       Increased stress among the poorest borrowers  Survey data analysis  "
      ]
     },
     "execution_count": 6,
     "metadata": {},
     "output_type": "execute_result"
    }
   ],
   "source": [
    "edge_schema = {\n",
    "    \"type\": \"json_schema\",\n",
    "    \"json_schema\": {\n",
    "        \"name\": \"edges_v1\",\n",
    "        \"strict\": True,\n",
    "        \"schema\": {\n",
    "            \"type\": \"object\",\n",
    "            \"properties\": {\n",
    "                \"edges\": {\n",
    "                    \"type\": \"array\",\n",
    "                    \"items\": {\n",
    "                        \"type\": \"object\",\n",
    "                        \"properties\": {\n",
    "                            \"claim\":  {\"type\": \"string\"},\n",
    "                            \"cause\":  {\"type\": \"string\"},\n",
    "                            \"effect\": {\"type\": \"string\"},\n",
    "                            \"method\": {\"type\": \"string\"}\n",
    "                        },\n",
    "                        # 🟢 now *including* \"method\"\n",
    "                        \"required\": [\"claim\", \"cause\", \"effect\", \"method\"],\n",
    "                        \"additionalProperties\": False\n",
    "                    }\n",
    "                }\n",
    "            },\n",
    "            \"required\": [\"edges\"],\n",
    "            \"additionalProperties\": False\n",
    "        }\n",
    "    }\n",
    "}\n",
    "\n",
    "\n",
    "stage2_resp = client.chat.completions.create(\n",
    "    model=\"gpt-4o-mini\",\n",
    "    messages=[\n",
    "        {\"role\": \"system\",\n",
    "         \"content\": \"Extract each relationship in 'A -> B' format. \"\n",
    "                    \"Include method if explicitly stated.\"},\n",
    "        {\"role\": \"user\", \"content\": causal_claims_text}\n",
    "    ],\n",
    "    temperature=0,\n",
    "    response_format=edge_schema\n",
    ")\n",
    "\n",
    "edges = json.loads(stage2_resp.choices[0].message.content)[\"edges\"]\n",
    "pd.DataFrame(edges)\n"
   ]
  },
  {
   "cell_type": "markdown",
   "id": "c51e64a7",
   "metadata": {},
   "source": [
    "### 4 · Interpretation\n",
    "\n",
    "* **Stage 1** shrank ~80 words of prose into a concise bullet string. Useful more many page documents. \n",
    "* **Stage 2** transformed that text into a table with `cause`, `effect`, and (where present) `method`.\n",
    "\n",
    "In production:\n",
    "\n",
    "* **Stage 1** can be different, e.g., *embedding search* + *LLM clean-up* instead of an LLM summary. \n",
    "  * You can also pre-process the text with regex or other tools to extract sections of interest.\n",
    "* **Chunking** logic decides paragraph size (e.g. 1 k tokens).  \n",
    "* The overall pattern stays identical: _retrieve ➜ condense ➜ parse_.\n"
   ]
  }
 ],
 "metadata": {
  "kernelspec": {
   "display_name": "Python 3",
   "language": "python",
   "name": "python3"
  },
  "language_info": {
   "codemirror_mode": {
    "name": "ipython",
    "version": 3
   },
   "file_extension": ".py",
   "mimetype": "text/x-python",
   "name": "python",
   "nbconvert_exporter": "python",
   "pygments_lexer": "ipython3",
   "version": "3.11.9"
  }
 },
 "nbformat": 4,
 "nbformat_minor": 5
}
